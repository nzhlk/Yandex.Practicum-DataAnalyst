{
 "cells": [
  {
   "cell_type": "markdown",
   "metadata": {},
   "source": [
    "## Исследование надёжности заёмщиков\n",
    "\n",
    "Заказчик — кредитный отдел банка. Нужно разобраться, влияет ли семейное положение и количество детей клиента на факт погашения кредита в срок. Входные данные от банка — статистика о платёжеспособности клиентов.\n",
    "\n",
    "Результаты исследования будут учтены при построении модели **кредитного скоринга** — специальной системы, которая оценивает способность потенциального заёмщика вернуть кредит банку."
   ]
  },
  {
   "cell_type": "markdown",
   "metadata": {},
   "source": [
    "### Шаг 1. Откройте файл с данными и изучите общую информацию. "
   ]
  },
  {
   "cell_type": "code",
   "execution_count": 1,
   "metadata": {
    "scrolled": true
   },
   "outputs": [
    {
     "data": {
      "text/html": [
       "<div>\n",
       "<style scoped>\n",
       "    .dataframe tbody tr th:only-of-type {\n",
       "        vertical-align: middle;\n",
       "    }\n",
       "\n",
       "    .dataframe tbody tr th {\n",
       "        vertical-align: top;\n",
       "    }\n",
       "\n",
       "    .dataframe thead th {\n",
       "        text-align: right;\n",
       "    }\n",
       "</style>\n",
       "<table border=\"1\" class=\"dataframe\">\n",
       "  <thead>\n",
       "    <tr style=\"text-align: right;\">\n",
       "      <th></th>\n",
       "      <th>children</th>\n",
       "      <th>days_employed</th>\n",
       "      <th>dob_years</th>\n",
       "      <th>education</th>\n",
       "      <th>education_id</th>\n",
       "      <th>family_status</th>\n",
       "      <th>family_status_id</th>\n",
       "      <th>gender</th>\n",
       "      <th>income_type</th>\n",
       "      <th>debt</th>\n",
       "      <th>total_income</th>\n",
       "      <th>purpose</th>\n",
       "    </tr>\n",
       "  </thead>\n",
       "  <tbody>\n",
       "    <tr>\n",
       "      <td>0</td>\n",
       "      <td>1</td>\n",
       "      <td>-8437.673028</td>\n",
       "      <td>42</td>\n",
       "      <td>высшее</td>\n",
       "      <td>0</td>\n",
       "      <td>женат / замужем</td>\n",
       "      <td>0</td>\n",
       "      <td>F</td>\n",
       "      <td>сотрудник</td>\n",
       "      <td>0</td>\n",
       "      <td>253875.639453</td>\n",
       "      <td>покупка жилья</td>\n",
       "    </tr>\n",
       "    <tr>\n",
       "      <td>1</td>\n",
       "      <td>1</td>\n",
       "      <td>-4024.803754</td>\n",
       "      <td>36</td>\n",
       "      <td>среднее</td>\n",
       "      <td>1</td>\n",
       "      <td>женат / замужем</td>\n",
       "      <td>0</td>\n",
       "      <td>F</td>\n",
       "      <td>сотрудник</td>\n",
       "      <td>0</td>\n",
       "      <td>112080.014102</td>\n",
       "      <td>приобретение автомобиля</td>\n",
       "    </tr>\n",
       "    <tr>\n",
       "      <td>2</td>\n",
       "      <td>0</td>\n",
       "      <td>-5623.422610</td>\n",
       "      <td>33</td>\n",
       "      <td>Среднее</td>\n",
       "      <td>1</td>\n",
       "      <td>женат / замужем</td>\n",
       "      <td>0</td>\n",
       "      <td>M</td>\n",
       "      <td>сотрудник</td>\n",
       "      <td>0</td>\n",
       "      <td>145885.952297</td>\n",
       "      <td>покупка жилья</td>\n",
       "    </tr>\n",
       "    <tr>\n",
       "      <td>3</td>\n",
       "      <td>3</td>\n",
       "      <td>-4124.747207</td>\n",
       "      <td>32</td>\n",
       "      <td>среднее</td>\n",
       "      <td>1</td>\n",
       "      <td>женат / замужем</td>\n",
       "      <td>0</td>\n",
       "      <td>M</td>\n",
       "      <td>сотрудник</td>\n",
       "      <td>0</td>\n",
       "      <td>267628.550329</td>\n",
       "      <td>дополнительное образование</td>\n",
       "    </tr>\n",
       "    <tr>\n",
       "      <td>4</td>\n",
       "      <td>0</td>\n",
       "      <td>340266.072047</td>\n",
       "      <td>53</td>\n",
       "      <td>среднее</td>\n",
       "      <td>1</td>\n",
       "      <td>гражданский брак</td>\n",
       "      <td>1</td>\n",
       "      <td>F</td>\n",
       "      <td>пенсионер</td>\n",
       "      <td>0</td>\n",
       "      <td>158616.077870</td>\n",
       "      <td>сыграть свадьбу</td>\n",
       "    </tr>\n",
       "    <tr>\n",
       "      <td>...</td>\n",
       "      <td>...</td>\n",
       "      <td>...</td>\n",
       "      <td>...</td>\n",
       "      <td>...</td>\n",
       "      <td>...</td>\n",
       "      <td>...</td>\n",
       "      <td>...</td>\n",
       "      <td>...</td>\n",
       "      <td>...</td>\n",
       "      <td>...</td>\n",
       "      <td>...</td>\n",
       "      <td>...</td>\n",
       "    </tr>\n",
       "    <tr>\n",
       "      <td>21520</td>\n",
       "      <td>1</td>\n",
       "      <td>-4529.316663</td>\n",
       "      <td>43</td>\n",
       "      <td>среднее</td>\n",
       "      <td>1</td>\n",
       "      <td>гражданский брак</td>\n",
       "      <td>1</td>\n",
       "      <td>F</td>\n",
       "      <td>компаньон</td>\n",
       "      <td>0</td>\n",
       "      <td>224791.862382</td>\n",
       "      <td>операции с жильем</td>\n",
       "    </tr>\n",
       "    <tr>\n",
       "      <td>21521</td>\n",
       "      <td>0</td>\n",
       "      <td>343937.404131</td>\n",
       "      <td>67</td>\n",
       "      <td>среднее</td>\n",
       "      <td>1</td>\n",
       "      <td>женат / замужем</td>\n",
       "      <td>0</td>\n",
       "      <td>F</td>\n",
       "      <td>пенсионер</td>\n",
       "      <td>0</td>\n",
       "      <td>155999.806512</td>\n",
       "      <td>сделка с автомобилем</td>\n",
       "    </tr>\n",
       "    <tr>\n",
       "      <td>21522</td>\n",
       "      <td>1</td>\n",
       "      <td>-2113.346888</td>\n",
       "      <td>38</td>\n",
       "      <td>среднее</td>\n",
       "      <td>1</td>\n",
       "      <td>гражданский брак</td>\n",
       "      <td>1</td>\n",
       "      <td>M</td>\n",
       "      <td>сотрудник</td>\n",
       "      <td>1</td>\n",
       "      <td>89672.561153</td>\n",
       "      <td>недвижимость</td>\n",
       "    </tr>\n",
       "    <tr>\n",
       "      <td>21523</td>\n",
       "      <td>3</td>\n",
       "      <td>-3112.481705</td>\n",
       "      <td>38</td>\n",
       "      <td>среднее</td>\n",
       "      <td>1</td>\n",
       "      <td>женат / замужем</td>\n",
       "      <td>0</td>\n",
       "      <td>M</td>\n",
       "      <td>сотрудник</td>\n",
       "      <td>1</td>\n",
       "      <td>244093.050500</td>\n",
       "      <td>на покупку своего автомобиля</td>\n",
       "    </tr>\n",
       "    <tr>\n",
       "      <td>21524</td>\n",
       "      <td>2</td>\n",
       "      <td>-1984.507589</td>\n",
       "      <td>40</td>\n",
       "      <td>среднее</td>\n",
       "      <td>1</td>\n",
       "      <td>женат / замужем</td>\n",
       "      <td>0</td>\n",
       "      <td>F</td>\n",
       "      <td>сотрудник</td>\n",
       "      <td>0</td>\n",
       "      <td>82047.418899</td>\n",
       "      <td>на покупку автомобиля</td>\n",
       "    </tr>\n",
       "  </tbody>\n",
       "</table>\n",
       "<p>21525 rows × 12 columns</p>\n",
       "</div>"
      ],
      "text/plain": [
       "       children  days_employed  dob_years education  education_id  \\\n",
       "0             1   -8437.673028         42    высшее             0   \n",
       "1             1   -4024.803754         36   среднее             1   \n",
       "2             0   -5623.422610         33   Среднее             1   \n",
       "3             3   -4124.747207         32   среднее             1   \n",
       "4             0  340266.072047         53   среднее             1   \n",
       "...         ...            ...        ...       ...           ...   \n",
       "21520         1   -4529.316663         43   среднее             1   \n",
       "21521         0  343937.404131         67   среднее             1   \n",
       "21522         1   -2113.346888         38   среднее             1   \n",
       "21523         3   -3112.481705         38   среднее             1   \n",
       "21524         2   -1984.507589         40   среднее             1   \n",
       "\n",
       "          family_status  family_status_id gender income_type  debt  \\\n",
       "0       женат / замужем                 0      F   сотрудник     0   \n",
       "1       женат / замужем                 0      F   сотрудник     0   \n",
       "2       женат / замужем                 0      M   сотрудник     0   \n",
       "3       женат / замужем                 0      M   сотрудник     0   \n",
       "4      гражданский брак                 1      F   пенсионер     0   \n",
       "...                 ...               ...    ...         ...   ...   \n",
       "21520  гражданский брак                 1      F   компаньон     0   \n",
       "21521   женат / замужем                 0      F   пенсионер     0   \n",
       "21522  гражданский брак                 1      M   сотрудник     1   \n",
       "21523   женат / замужем                 0      M   сотрудник     1   \n",
       "21524   женат / замужем                 0      F   сотрудник     0   \n",
       "\n",
       "        total_income                       purpose  \n",
       "0      253875.639453                 покупка жилья  \n",
       "1      112080.014102       приобретение автомобиля  \n",
       "2      145885.952297                 покупка жилья  \n",
       "3      267628.550329    дополнительное образование  \n",
       "4      158616.077870               сыграть свадьбу  \n",
       "...              ...                           ...  \n",
       "21520  224791.862382             операции с жильем  \n",
       "21521  155999.806512          сделка с автомобилем  \n",
       "21522   89672.561153                  недвижимость  \n",
       "21523  244093.050500  на покупку своего автомобиля  \n",
       "21524   82047.418899         на покупку автомобиля  \n",
       "\n",
       "[21525 rows x 12 columns]"
      ]
     },
     "metadata": {},
     "output_type": "display_data"
    },
    {
     "name": "stdout",
     "output_type": "stream",
     "text": [
      "<class 'pandas.core.frame.DataFrame'>\n",
      "RangeIndex: 21525 entries, 0 to 21524\n",
      "Data columns (total 12 columns):\n",
      "children            21525 non-null int64\n",
      "days_employed       19351 non-null float64\n",
      "dob_years           21525 non-null int64\n",
      "education           21525 non-null object\n",
      "education_id        21525 non-null int64\n",
      "family_status       21525 non-null object\n",
      "family_status_id    21525 non-null int64\n",
      "gender              21525 non-null object\n",
      "income_type         21525 non-null object\n",
      "debt                21525 non-null int64\n",
      "total_income        19351 non-null float64\n",
      "purpose             21525 non-null object\n",
      "dtypes: float64(2), int64(5), object(5)\n",
      "memory usage: 2.0+ MB\n"
     ]
    }
   ],
   "source": [
    "#Загрузим датасет и посмотрим информацию\n",
    "import pandas as pd\n",
    "from IPython.display import display\n",
    "data = pd.read_csv('/datasets/data.csv')\n",
    "display(data)\n",
    "data.info()"
   ]
  },
  {
   "cell_type": "markdown",
   "metadata": {},
   "source": [
    "### Вывод"
   ]
  },
  {
   "cell_type": "markdown",
   "metadata": {},
   "source": [
    "Получив данные, нас в первую очередь могут привлечь отрицательные значения в столбце 'days_employed', от которых в дальнейшем необходимо будет избавиться. Далее необходимо проверить, есть ли пропуски в нашей таблице или какие-то другие значения, которые могут исказить наши данные."
   ]
  },
  {
   "cell_type": "markdown",
   "metadata": {},
   "source": [
    "### Шаг 2. Предобработка данных"
   ]
  },
  {
   "cell_type": "markdown",
   "metadata": {},
   "source": [
    "### Обработка пропусков"
   ]
  },
  {
   "cell_type": "code",
   "execution_count": 2,
   "metadata": {},
   "outputs": [
    {
     "data": {
      "text/plain": [
       "children            0\n",
       "days_employed       0\n",
       "dob_years           0\n",
       "education           0\n",
       "education_id        0\n",
       "family_status       0\n",
       "family_status_id    0\n",
       "gender              0\n",
       "income_type         0\n",
       "debt                0\n",
       "total_income        0\n",
       "purpose             0\n",
       "dtype: int64"
      ]
     },
     "execution_count": 2,
     "metadata": {},
     "output_type": "execute_result"
    }
   ],
   "source": [
    "#сгруппируем наш датасет по типу занятости и доходу и найдем среднее значение\n",
    "data_income_mean = data.groupby('income_type')['total_income'].mean()\n",
    "#сгруппируем наш датасет по типу занятости и рабочим и найдем среднее значение\n",
    "days_employed_mean = data.groupby('income_type')['days_employed'].mean()\n",
    "#проверяем\n",
    "#print(data_income_mean)\n",
    "#print(days_employed_mean)\n",
    "#заменим пропущенные значения на получившиеся средние для каждого вида занятости\n",
    "data['total_income'] = data['total_income'].fillna(('data_income_mean'))\n",
    "data['days_employed'] = data['days_employed'].fillna(('days_employed_mean'))\n",
    "#проверим остались ли пропущенные значения\n",
    "data.isnull().sum()"
   ]
  },
  {
   "cell_type": "markdown",
   "metadata": {},
   "source": [
    "### Вывод"
   ]
  },
  {
   "cell_type": "markdown",
   "metadata": {},
   "source": [
    "Обнаружились пропущенные значения по столбцам days_employed и total_income. Это можно объяснить тем, что если у клиента нет дохода, соответсвенно значения дней работы также будут пустыми. Пропущенные значения были заменены на 0, чтобы ничего не отразилось на качестве данных. Также проверили столбцы children и family_status на отсутсвие ошибочных значений."
   ]
  },
  {
   "cell_type": "markdown",
   "metadata": {},
   "source": [
    "### Замена типа данных"
   ]
  },
  {
   "cell_type": "code",
   "execution_count": 3,
   "metadata": {},
   "outputs": [],
   "source": [
    "# Шаг 1. Заполним все пропуски значениями Nan:\n",
    "data['days_employed'] = pd.to_numeric(data['days_employed'], errors='coerce')\n",
    "data['total_income'] = pd.to_numeric(data['total_income'], errors='coerce')\n"
   ]
  },
  {
   "cell_type": "markdown",
   "metadata": {},
   "source": [
    "### Вывод"
   ]
  },
  {
   "cell_type": "markdown",
   "metadata": {},
   "source": [
    "Так как данные были нам представлены в смешанном виде,для их обработки необходимо было привести их в тип float64. "
   ]
  },
  {
   "cell_type": "markdown",
   "metadata": {},
   "source": [
    "### Обработка дубликатов"
   ]
  },
  {
   "cell_type": "code",
   "execution_count": 4,
   "metadata": {},
   "outputs": [
    {
     "name": "stdout",
     "output_type": "stream",
     "text": [
      " 0     14149\n",
      " 1      4818\n",
      " 2      2055\n",
      " 3       330\n",
      " 20       76\n",
      "-1        47\n",
      " 4        41\n",
      " 5         9\n",
      "Name: children, dtype: int64\n",
      "-986.927316     1\n",
      "-7026.359174    1\n",
      "-4236.274243    1\n",
      "-6620.396473    1\n",
      "-1238.560080    1\n",
      "               ..\n",
      "-2849.351119    1\n",
      "-5619.328204    1\n",
      "-448.829898     1\n",
      "-1687.038672    1\n",
      "-582.538413     1\n",
      "Name: days_employed, Length: 19351, dtype: int64\n",
      "35    617\n",
      "40    609\n",
      "41    607\n",
      "34    603\n",
      "38    598\n",
      "42    597\n",
      "33    581\n",
      "39    573\n",
      "31    560\n",
      "36    555\n",
      "44    547\n",
      "29    545\n",
      "30    540\n",
      "48    538\n",
      "37    537\n",
      "50    514\n",
      "43    513\n",
      "32    510\n",
      "49    508\n",
      "28    503\n",
      "45    497\n",
      "27    493\n",
      "56    487\n",
      "52    484\n",
      "47    480\n",
      "54    479\n",
      "46    475\n",
      "58    461\n",
      "57    460\n",
      "53    459\n",
      "51    448\n",
      "59    444\n",
      "55    443\n",
      "26    408\n",
      "60    377\n",
      "25    357\n",
      "61    355\n",
      "62    352\n",
      "63    269\n",
      "64    265\n",
      "24    264\n",
      "23    254\n",
      "65    194\n",
      "66    183\n",
      "22    183\n",
      "67    167\n",
      "21    111\n",
      "0     101\n",
      "68     99\n",
      "69     85\n",
      "70     65\n",
      "71     58\n",
      "20     51\n",
      "72     33\n",
      "19     14\n",
      "73      8\n",
      "74      6\n",
      "75      1\n",
      "Name: dob_years, dtype: int64\n",
      "среднее                15233\n",
      "высшее                  5260\n",
      "неоконченное высшее      744\n",
      "начальное                282\n",
      "ученая степень             6\n",
      "Name: education, dtype: int64\n",
      "1    15233\n",
      "0     5260\n",
      "2      744\n",
      "3      282\n",
      "4        6\n",
      "Name: education_id, dtype: int64\n",
      "женат / замужем          12380\n",
      "гражданский брак          4177\n",
      "не женат / не замужем     2813\n",
      "в разводе                 1195\n",
      "вдовец / вдова             960\n",
      "Name: family_status, dtype: int64\n",
      "0    12380\n",
      "1     4177\n",
      "4     2813\n",
      "3     1195\n",
      "2      960\n",
      "Name: family_status_id, dtype: int64\n",
      "F      14236\n",
      "M       7288\n",
      "XNA        1\n",
      "Name: gender, dtype: int64\n",
      "сотрудник          11119\n",
      "компаньон           5085\n",
      "пенсионер           3856\n",
      "госслужащий         1459\n",
      "безработный            2\n",
      "предприниматель        2\n",
      "студент                1\n",
      "в декрете              1\n",
      "Name: income_type, dtype: int64\n",
      "0    19784\n",
      "1     1741\n",
      "Name: debt, dtype: int64\n",
      "112874.418757    1\n",
      "133912.272223    1\n",
      "182036.676828    1\n",
      "122421.963500    1\n",
      "198271.837248    1\n",
      "                ..\n",
      "133299.194693    1\n",
      "115080.782380    1\n",
      "84896.781597     1\n",
      "153838.839212    1\n",
      "150014.128510    1\n",
      "Name: total_income, Length: 19351, dtype: int64\n",
      "свадьба                                   797\n",
      "на проведение свадьбы                     777\n",
      "сыграть свадьбу                           774\n",
      "операции с недвижимостью                  676\n",
      "покупка коммерческой недвижимости         664\n",
      "покупка жилья для сдачи                   653\n",
      "операции с жильем                         653\n",
      "операции с коммерческой недвижимостью     651\n",
      "покупка жилья                             647\n",
      "жилье                                     647\n",
      "покупка жилья для семьи                   641\n",
      "строительство собственной недвижимости    635\n",
      "недвижимость                              634\n",
      "операции со своей недвижимостью           630\n",
      "строительство жилой недвижимости          626\n",
      "покупка недвижимости                      624\n",
      "покупка своего жилья                      620\n",
      "строительство недвижимости                620\n",
      "ремонт жилью                              612\n",
      "покупка жилой недвижимости                607\n",
      "на покупку своего автомобиля              505\n",
      "заняться высшим образованием              496\n",
      "автомобиль                                495\n",
      "сделка с подержанным автомобилем          489\n",
      "свой автомобиль                           480\n",
      "на покупку подержанного автомобиля        479\n",
      "автомобили                                478\n",
      "на покупку автомобиля                     472\n",
      "дополнительное образование                462\n",
      "приобретение автомобиля                   462\n",
      "сделка с автомобилем                      455\n",
      "высшее образование                        453\n",
      "получение дополнительного образования     447\n",
      "образование                               447\n",
      "получение образования                     443\n",
      "профильное образование                    436\n",
      "получение высшего образования             426\n",
      "заняться образованием                     412\n",
      "Name: purpose, dtype: int64\n"
     ]
    }
   ],
   "source": [
    "# Произведём ручной поиск дубликатов. Выберем столбцы, где чаще всего есть разные значения:\n",
    "data['education'] = data['education'].str.lower()\n",
    "data['family_status'] = data['family_status'].str.lower()\n",
    "data['income_type'] = data['income_type'].str.lower()\n",
    "data['purpose'] = data['purpose'].str.lower()\n",
    "\n",
    "# Далее найдём дубликаты в каждом столбце датафрейма\n",
    "print(data['children'].value_counts()) \n",
    "print(data['days_employed'].value_counts()) \n",
    "print(data['dob_years'].value_counts()) \n",
    "print(data['education'].value_counts()) \n",
    "print(data['education_id'].value_counts()) \n",
    "print(data['family_status'].value_counts())  \n",
    "print(data['family_status_id'].value_counts()) \n",
    "print(data['gender'].value_counts()) \n",
    "print(data['income_type'].value_counts()) \n",
    "print(data['debt'].value_counts()) \n",
    "print(data['total_income'].value_counts()) \n",
    "print(data['purpose'].value_counts())  \n",
    "# Удалим все дубликатов из таблицы data специальным методом\n",
    "data = data.drop_duplicates().reset_index(drop=True)\n"
   ]
  },
  {
   "cell_type": "markdown",
   "metadata": {},
   "source": [
    "### Вывод"
   ]
  },
  {
   "cell_type": "markdown",
   "metadata": {},
   "source": [
    " Поиск дублей показал дублированные записи по столбцу purpose. Необходимо будет произвести лемматизацию этого стобца."
   ]
  },
  {
   "cell_type": "markdown",
   "metadata": {},
   "source": [
    "### Лемматизация"
   ]
  },
  {
   "cell_type": "code",
   "execution_count": 5,
   "metadata": {},
   "outputs": [
    {
     "name": "stdout",
     "output_type": "stream",
     "text": [
      "0                             [покупка,  , жилье, \\n]\n",
      "1                   [приобретение,  , автомобиль, \\n]\n",
      "2                             [покупка,  , жилье, \\n]\n",
      "3                [дополнительный,  , образование, \\n]\n",
      "4                           [сыграть,  , свадьба, \\n]\n",
      "                             ...                     \n",
      "21449                  [операция,  , с,  , жилье, \\n]\n",
      "21450               [сделка,  , с,  , автомобиль, \\n]\n",
      "21451                              [недвижимость, \\n]\n",
      "21452    [на,  , покупка,  , свой,  , автомобиль, \\n]\n",
      "21453             [на,  , покупка,  , автомобиль, \\n]\n",
      "Name: purpose_lemma, Length: 21454, dtype: object\n"
     ]
    }
   ],
   "source": [
    "# Лемматизировать будем столбец purpose, который дал нам большое количество дубликатов и создадим для него отдельный столбец\n",
    "#загружем библиотеку для лемматизации\n",
    "from pymystem3 import Mystem \n",
    "m = Mystem() \n",
    "def do_lemma(row):\n",
    "    lemma = m.lemmatize(row)\n",
    "    return lemma\n",
    "#создадим дополнительный столбец с лемматизированными целями\n",
    "data['purpose_lemma'] = data['purpose'].apply(do_lemma)\n",
    "#создадим строку из уникальных целей\n",
    "print(data['purpose_lemma'])\n"
   ]
  },
  {
   "cell_type": "markdown",
   "metadata": {},
   "source": [
    "### Вывод"
   ]
  },
  {
   "cell_type": "markdown",
   "metadata": {},
   "source": [
    "В ходе лемматизации получили популярные запросы на получение кредита: недвижимость, жилье, автомобиль, образование, свадьба. "
   ]
  },
  {
   "cell_type": "markdown",
   "metadata": {},
   "source": [
    "### Категоризация данных"
   ]
  },
  {
   "cell_type": "code",
   "execution_count": 6,
   "metadata": {},
   "outputs": [
    {
     "name": "stdout",
     "output_type": "stream",
     "text": [
      "без детей\n",
      "debt                 0     1\n",
      "children_return             \n",
      "без детей        13074  1064\n",
      "с детьми          6639   677\n"
     ]
    }
   ],
   "source": [
    "# Категоризацию данных построим по зависимости количества детей от возможной задолженности\n",
    "def children_and_debt(row): #создадим функцию, которая будет категоризировать должник клиент или нет по количеству детей\n",
    "    children = row['children']\n",
    "    if 1 <= children :\n",
    "            return 'с детьми'\n",
    "    if 1 > children :\n",
    "            return 'без детей'\n",
    "# Протестируем   \n",
    "row_values = [0]\n",
    "row_columns = ['children'] \n",
    "row = pd.Series(data=row_values, index=row_columns)\n",
    "print(children_and_debt(row))\n",
    "#создаем новый столбец, чтобы проверить работу функции\n",
    "data['children_return'] = data.apply(children_and_debt, axis=1)\n",
    "#создадим сводную таблицу\n",
    "data_children_pivot = data.pivot_table(index = 'children_return', columns = 'debt',values = 'children', aggfunc = 'count')\n",
    "print(data_children_pivot)\n",
    "\n"
   ]
  },
  {
   "cell_type": "markdown",
   "metadata": {},
   "source": [
    "### Вывод"
   ]
  },
  {
   "cell_type": "markdown",
   "metadata": {},
   "source": [
    "Результат нам показал, что клиенты, у которых нет детей чаще погашают кредит в срок, значит первый вывод можно сделать, что может наблюдаться зависимость, если в семье нет детей, то клиент надежный плательщик."
   ]
  },
  {
   "cell_type": "markdown",
   "metadata": {},
   "source": [
    "### Шаг 3. Ответьте на вопросы"
   ]
  },
  {
   "cell_type": "markdown",
   "metadata": {},
   "source": [
    "- Есть ли зависимость между наличием детей и возвратом кредита в срок?"
   ]
  },
  {
   "cell_type": "code",
   "execution_count": 7,
   "metadata": {},
   "outputs": [
    {
     "name": "stdout",
     "output_type": "stream",
     "text": [
      "Процент клиентов с детьми, у которых задолжность: 9.2%\n",
      "Процент бездетных, у которых задолжность: 7.5%\n"
     ]
    }
   ],
   "source": [
    "#создадим переменные, которые показывают наличие детей у клиентов\n",
    "children_yes = data[data['children'] != 0]\n",
    "children_no = data[data['children'] == 0]\n",
    "#найдем отношение наличия задолженности к наличию детей\n",
    "children_debt = children_yes['debt'].sum() / len(children_yes)\n",
    "children_no_debt = children_no['debt'].sum() / len(children_no)\n",
    "print('Процент клиентов с детьми, у которых задолжность: {:.1%}'.format(children_debt))\n",
    "print('Процент бездетных, у которых задолжность: {:.1%}'.format(children_no_debt))"
   ]
  },
  {
   "cell_type": "markdown",
   "metadata": {},
   "source": [
    "### Вывод"
   ]
  },
  {
   "cell_type": "markdown",
   "metadata": {},
   "source": [
    "Данные показывают, что бездетные клиенты чаще выплачивают кредит вовремя, чем те, у которых есть дети. Хотя казалось, что наличие детей делает людей более ответсвенными. Это подтвердило нашу первую гипотезу из категоризации данных"
   ]
  },
  {
   "cell_type": "markdown",
   "metadata": {},
   "source": [
    "- Есть ли зависимость между семейным положением и возвратом кредита в срок?"
   ]
  },
  {
   "cell_type": "code",
   "execution_count": 8,
   "metadata": {},
   "outputs": [
    {
     "name": "stdout",
     "output_type": "stream",
     "text": [
      "['женат / замужем' 'гражданский брак' 'вдовец / вдова' 'в разводе'\n",
      " 'не женат / не замужем']\n",
      "[0 1 2 3 4]\n",
      "debt                     coef %    sum\n",
      "family_status                         \n",
      "в разводе              7.112971   1195\n",
      "вдовец / вдова         6.569343    959\n",
      "гражданский брак       9.347145   4151\n",
      "женат / замужем        7.545182  12339\n",
      "не женат / не замужем  9.750890   2810\n"
     ]
    }
   ],
   "source": [
    "# сопоставим уникальные значения с семейным статусом и их ID\n",
    "print(data['family_status'].unique())\n",
    "print(data['family_status_id'].unique())\n",
    "#создаем таблицу data_pivot_family_status где смотрим должников по категории семейного положения\n",
    "data_pivot_family_status = data.pivot_table(index='family_status', columns='debt', values='family_status_id', aggfunc='count')\n",
    "#считаем процент должников\n",
    "#print(data_pivot_family_status)\n",
    "data_pivot_family_status['sum'] = data_pivot_family_status[1] + data_pivot_family_status[0]\n",
    "data_pivot_family_status['coef %'] = (data_pivot_family_status[1] / data_pivot_family_status['sum']) * 100\n",
    "#cчитаем сумму клиентов каждой категории\n",
    "print(data_pivot_family_status[['coef %', 'sum']])"
   ]
  },
  {
   "cell_type": "markdown",
   "metadata": {},
   "source": [
    "### Вывод"
   ]
  },
  {
   "cell_type": "markdown",
   "metadata": {},
   "source": [
    "Как видно из результатов семейное положение влияет при возрвате кредита. Люди, которые не состояли в официальном браке, т.е. не женатые или находящиеся в гражданском браке чаще остаются в должниках"
   ]
  },
  {
   "cell_type": "markdown",
   "metadata": {},
   "source": [
    "- Есть ли зависимость между уровнем дохода и возвратом кредита в срок?"
   ]
  },
  {
   "cell_type": "code",
   "execution_count": 9,
   "metadata": {},
   "outputs": [
    {
     "name": "stdout",
     "output_type": "stream",
     "text": [
      "debt               coef %   sum\n",
      "category_income                \n",
      "до 30            9.090909    22\n",
      "от 100 до 150    8.607994  5704\n",
      "от 150 до 200    8.936377  4118\n",
      "от 200           7.066719  5066\n",
      "от 30 до 50      6.000000   350\n",
      "от 50 до 100     8.090931  4091\n"
     ]
    }
   ],
   "source": [
    "# Сопоставим доход и их наличие задолженности. \n",
    "def total_income_and_debt(row):\n",
    "#Доход до 30:   \n",
    "    if 1 < row <= 30000:\n",
    "            return 'до 30'\n",
    "#Доход от 30 до 50:        \n",
    "    if 30000  < row <= 50000:\n",
    "            return 'от 30 до 50'     \n",
    "#Доход от 50 до 100:       \n",
    "    if 50000  < row <= 100000:\n",
    "            return 'от 50 до 100'     \n",
    "#Доход от 100 до 150:       \n",
    "    if 100000  < row <= 150000:\n",
    "            return 'от 100 до 150'     \n",
    "#Доход от 150 до 200:        \n",
    "    if 150000  < row <= 200000:\n",
    "            return 'от 150 до 200'\n",
    "#Доход от 200 и более:        \n",
    "    if 200000  < row:\n",
    "            return 'от 200'\n",
    "# Протестируем  \n",
    "data['category_income'] = data['total_income'].apply(total_income_and_debt)\n",
    "data_pivot_income = data.pivot_table(index='category_income', columns='debt', values='total_income', aggfunc='count')\n",
    "#считаем процент должников\n",
    "data_pivot_income['sum'] = data_pivot_income[1] + data_pivot_income[0]\n",
    "data_pivot_income['coef %'] = (data_pivot_income[1] / data_pivot_income['sum']) * 100\n",
    "#cчитаем сумму клиентов каждой категории\n",
    "print(data_pivot_income[['coef %', 'sum']])\n"
   ]
  },
  {
   "cell_type": "markdown",
   "metadata": {},
   "source": [
    "### Вывод"
   ]
  },
  {
   "cell_type": "markdown",
   "metadata": {},
   "source": [
    "Уровень дохода также влияет на возврат кредита в срок. Так, люди с низким достатком чаще не погашают свою задолженность вовремя. Также чаще остаются в должниках клиенты с относительно высоким достатком от 100 до 200 т.р."
   ]
  },
  {
   "cell_type": "markdown",
   "metadata": {},
   "source": [
    "- Как разные цели кредита влияют на его возврат в срок?"
   ]
  },
  {
   "cell_type": "code",
   "execution_count": 10,
   "metadata": {},
   "outputs": [
    {
     "name": "stdout",
     "output_type": "stream",
     "text": [
      "debt             coef %   sum\n",
      "purpose_lemma                \n",
      "1              8.003442  2324\n",
      "2              9.359034  4306\n",
      "3              9.220035  4013\n",
      "4              6.905830  4460\n",
      "5              7.463392  6351\n"
     ]
    }
   ],
   "source": [
    "#Применим результаты лематизации\n",
    "#обозначим жилье - 1\n",
    "#автомобиль - 2\n",
    "#образование - 3\n",
    "#жилье - 4\n",
    "#недвижимость - 5\n",
    "def purpose_lemma(row):\n",
    "    if 'свадьба' in row:\n",
    "        return 1\n",
    "    elif 'автомобиль' in row:\n",
    "        return 2\n",
    "    elif 'образование' in row:\n",
    "        return 3\n",
    "    elif 'жилье' in row:\n",
    "        return 4\n",
    "    elif 'недвижимость' in row:\n",
    "        return 5\n",
    "    else:\n",
    "        return 6\n",
    "#протестируем  \n",
    "data['purpose_lemma'] = data['purpose_lemma'].apply(purpose_lemma)\n",
    "purpose_table = data.groupby(['purpose_lemma'], as_index = False).agg({'debt':'sum', 'purpose': 'count'})\n",
    "#создаем новый столбец, чтобы проверить работу функции\n",
    "data_pivot_purpose = data.pivot_table(index='purpose_lemma', columns='debt', values='purpose', aggfunc='count')\n",
    "#print(data_pivot_purpose) \n",
    "#считаем процент должников\n",
    "data_pivot_purpose['sum'] = data_pivot_purpose[1] + data_pivot_purpose[0]\n",
    "data_pivot_purpose['coef %'] = (data_pivot_purpose[1] / data_pivot_purpose['sum'])*100\n",
    "print(data_pivot_purpose[['coef %','sum']])\n"
   ]
  },
  {
   "cell_type": "markdown",
   "metadata": {},
   "source": [
    "### Вывод"
   ]
  },
  {
   "cell_type": "markdown",
   "metadata": {},
   "source": [
    "Одной из самых \"безобидных\" целей, на которую кредит возвращается вовремя является приобретение жилья. А наборот категории, по которым процент должников наибольший приобретение автомобиля и образование"
   ]
  },
  {
   "cell_type": "markdown",
   "metadata": {},
   "source": [
    "### Шаг 4. Общий вывод"
   ]
  },
  {
   "cell_type": "markdown",
   "metadata": {},
   "source": [
    "1. Наблюдается зависимость от количества детей и возврата кредита в срок: клиенты с 1 и ребенком реже возвращают долг, чем бездетные клиенты.\n",
    "2. Видна зависимость между семейным статусом и возвратом кредита в срок: люди, находящиеся в браке более ответственно подходят к этому делу и реже становятся должниками, чем неженатые или находящиеся в разводе.\n",
    "3. Зависимоть по уровень дохода показала, что клиенты с доходом доходом ниже 30 т.р. а также с доходом от 100 до 200 т.р. чаще остаются должниками\n",
    "4. Клиенты, взявшие кредит на крупные покупки, такие как жилье или другая недвижимость реже оказываются в должниках, чем клиенты, взявшие кредит на более \"дешевые\" цели такие как приобретение автомобиля или оплата образования.\n",
    " Таким образом мы выяснили, что все 4 фактора оказывают зависимость к возврату долга в банке. "
   ]
  },
  {
   "cell_type": "markdown",
   "metadata": {},
   "source": [
    "### Чек-лист готовности проекта\n",
    "\n",
    "Поставьте 'x' в выполненных пунктах. Далее нажмите Shift+Enter."
   ]
  },
  {
   "cell_type": "markdown",
   "metadata": {},
   "source": [
    "- [x]  открыт файл;\n",
    "- [x]  файл изучен;\n",
    "- [x]  определены пропущенные значения;\n",
    "- [x]  заполнены пропущенные значения;\n",
    "- [x]  есть пояснение, какие пропущенные значения обнаружены;\n",
    "- [x]  описаны возможные причины появления пропусков в данных;\n",
    "- [x]  объяснено, по какому принципу заполнены пропуски;\n",
    "- [x]  заменен вещественный тип данных на целочисленный;\n",
    "- [x]  есть пояснение, какой метод используется для изменения типа данных и почему;\n",
    "- [x]  удалены дубликаты;\n",
    "- [x]  есть пояснение, какой метод используется для поиска и удаления дубликатов;\n",
    "- [x]  описаны возможные причины появления дубликатов в данных;\n",
    "- [x]  выделены леммы в значениях столбца с целями получения кредита;\n",
    "- [x]  описан процесс лемматизации;\n",
    "- [x]  данные категоризированы;\n",
    "- [x]  есть объяснение принципа категоризации данных;\n",
    "- [x]  есть ответ на вопрос: \"Есть ли зависимость между наличием детей и возвратом кредита в срок?\";\n",
    "- [x]  есть ответ на вопрос: \"Есть ли зависимость между семейным положением и возвратом кредита в срок?\";\n",
    "- [x]  есть ответ на вопрос: \"Есть ли зависимость между уровнем дохода и возвратом кредита в срок?\";\n",
    "- [x]  есть ответ на вопрос: \"Как разные цели кредита влияют на его возврат в срок?\";\n",
    "- [x]  в каждом этапе есть выводы;\n",
    "- [x]  есть общий вывод."
   ]
  }
 ],
 "metadata": {
  "kernelspec": {
   "display_name": "Python 3",
   "language": "python",
   "name": "python3"
  },
  "language_info": {
   "codemirror_mode": {
    "name": "ipython",
    "version": 3
   },
   "file_extension": ".py",
   "mimetype": "text/x-python",
   "name": "python",
   "nbconvert_exporter": "python",
   "pygments_lexer": "ipython3",
   "version": "3.9.0"
  }
 },
 "nbformat": 4,
 "nbformat_minor": 2
}
